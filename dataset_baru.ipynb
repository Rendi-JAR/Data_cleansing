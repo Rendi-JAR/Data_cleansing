{
  "nbformat": 4,
  "nbformat_minor": 0,
  "metadata": {
    "colab": {
      "provenance": []
    },
    "kernelspec": {
      "name": "python3",
      "display_name": "Python 3"
    },
    "language_info": {
      "name": "python"
    }
  },
  "cells": [
    {
      "cell_type": "markdown",
      "source": [
        "## **1. IMPORT FILE .CSV**"
      ],
      "metadata": {
        "id": "lUW0eu9WI2XJ"
      }
    },
    {
      "cell_type": "code",
      "source": [
        "from google.colab import drive\n",
        "drive.mount('/content/drive')"
      ],
      "metadata": {
        "colab": {
          "base_uri": "https://localhost:8080/"
        },
        "id": "vsm4XtiJoMaC",
        "outputId": "1dca264c-f6b9-4693-e1d2-580b01ab27bd"
      },
      "execution_count": 6,
      "outputs": [
        {
          "output_type": "stream",
          "name": "stdout",
          "text": [
            "Drive already mounted at /content/drive; to attempt to forcibly remount, call drive.mount(\"/content/drive\", force_remount=True).\n"
          ]
        }
      ]
    },
    {
      "cell_type": "markdown",
      "source": [
        "## **2. LOAD DATASET YANG SUDAH DI IMPORT**"
      ],
      "metadata": {
        "id": "174kLYWGjVU4"
      }
    },
    {
      "cell_type": "code",
      "execution_count": 7,
      "metadata": {
        "colab": {
          "base_uri": "https://localhost:8080/"
        },
        "id": "qKjCK4g9jTC0",
        "outputId": "572fc5fd-bd68-4e75-8a4e-c84f5c9ef7e5"
      },
      "outputs": [
        {
          "output_type": "stream",
          "name": "stdout",
          "text": [
            "=== Data Awal ===\n",
            "   ID Variant         Category            Items Name Brand Name  \\\n",
            "0    97069882    tembakau mole             madu gold  Unbranded   \n",
            "1    97069889    tembakau mole            madu prima  Unbranded   \n",
            "2    97069893    tembakau mole           madu silver  Unbranded   \n",
            "3    97071033    tembakau mole  gunting kuning kecil  Unbranded   \n",
            "4    97254100  rokok sampoerna     sampoerna mild 12  Unbranded   \n",
            "\n",
            "   Basic - Price  In Stock Track Stock Track Alert Track Cost  Cost Amount  \n",
            "0           8000         1         Yes         Yes        Yes       5000.0  \n",
            "1          13000         1         Yes         Yes        Yes       8600.0  \n",
            "2          13000         1         Yes         Yes        Yes       8600.0  \n",
            "3           8000        10         Yes         Yes        Yes       5212.0  \n",
            "4          25000         4         Yes         Yes        Yes      23828.0  \n"
          ]
        }
      ],
      "source": [
        "import pandas as pd\n",
        "\n",
        "file_path = \"/content/drive/MyDrive/Colab Notebooks/dataset_baru.csv\"\n",
        "dataset = pd.read_csv(file_path, delimiter=';')\n",
        "\n",
        "print(\"=== Data Awal ===\")\n",
        "print(dataset.head())\n"
      ]
    },
    {
      "cell_type": "markdown",
      "source": [
        "## **3. CEK MISSING VALUE & DUPLICATE**"
      ],
      "metadata": {
        "id": "qZWuuIvemqmb"
      }
    },
    {
      "cell_type": "code",
      "source": [
        "# Cek missing values\n",
        "print(\"Missing values per kolom:\")\n",
        "print(dataset.isnull().sum())\n",
        "\n",
        "print(\"\\nJumlah duplikat:\", dataset.duplicated().sum())\n"
      ],
      "metadata": {
        "colab": {
          "base_uri": "https://localhost:8080/"
        },
        "id": "M6UiVHEomrCi",
        "outputId": "6f818f28-fe87-4af8-eafb-2080edac13ce"
      },
      "execution_count": 8,
      "outputs": [
        {
          "output_type": "stream",
          "name": "stdout",
          "text": [
            "Missing values per kolom:\n",
            "ID Variant       0\n",
            "Category         0\n",
            "Items Name       0\n",
            "Brand Name       0\n",
            "Basic - Price    0\n",
            "In Stock         0\n",
            "Track Stock      0\n",
            "Track Alert      0\n",
            "Track Cost       0\n",
            "Cost Amount      5\n",
            "dtype: int64\n",
            "\n",
            "Jumlah duplikat: 0\n"
          ]
        }
      ]
    },
    {
      "cell_type": "markdown",
      "source": [
        "## **4. JIKA ADA DUPLIKAT MAKA AKAN DI HAPUS**"
      ],
      "metadata": {
        "id": "VtS3LRxlmr_H"
      }
    },
    {
      "cell_type": "code",
      "source": [
        "dataset = dataset.drop_duplicates()"
      ],
      "metadata": {
        "id": "5PVvbyirmseT"
      },
      "execution_count": 9,
      "outputs": []
    },
    {
      "cell_type": "markdown",
      "source": [
        "## **5. ISI VALUE YANG KOSONG BILA ADA**"
      ],
      "metadata": {
        "id": "zFA9Cro1mwSz"
      }
    },
    {
      "cell_type": "code",
      "source": [
        "# Isi missing value di kolom 'Cost Amount' dengan median\n",
        "if 'Cost Amount' in dataset.columns:\n",
        "    dataset['Cost Amount'] = dataset['Cost Amount'].fillna(dataset['Cost Amount'].median())"
      ],
      "metadata": {
        "id": "MiI5CDNdmw3e"
      },
      "execution_count": 10,
      "outputs": []
    },
    {
      "cell_type": "markdown",
      "source": [
        "## **6. TAMPILAN DATA SETELAH DI CLEANSING**"
      ],
      "metadata": {
        "id": "8wQ5Eqs0mzC2"
      }
    },
    {
      "cell_type": "code",
      "source": [
        "print(\"\\n=== Data Setelah Cleansing ===\")\n",
        "print(dataset.head())"
      ],
      "metadata": {
        "colab": {
          "base_uri": "https://localhost:8080/"
        },
        "id": "CCR9TYFvm2OW",
        "outputId": "fce5a92e-e9bc-4f2b-81c1-e04fc09f81a9"
      },
      "execution_count": 11,
      "outputs": [
        {
          "output_type": "stream",
          "name": "stdout",
          "text": [
            "\n",
            "=== Data Setelah Cleansing ===\n",
            "   ID Variant         Category            Items Name Brand Name  \\\n",
            "0    97069882    tembakau mole             madu gold  Unbranded   \n",
            "1    97069889    tembakau mole            madu prima  Unbranded   \n",
            "2    97069893    tembakau mole           madu silver  Unbranded   \n",
            "3    97071033    tembakau mole  gunting kuning kecil  Unbranded   \n",
            "4    97254100  rokok sampoerna     sampoerna mild 12  Unbranded   \n",
            "\n",
            "   Basic - Price  In Stock Track Stock Track Alert Track Cost  Cost Amount  \n",
            "0           8000         1         Yes         Yes        Yes       5000.0  \n",
            "1          13000         1         Yes         Yes        Yes       8600.0  \n",
            "2          13000         1         Yes         Yes        Yes       8600.0  \n",
            "3           8000        10         Yes         Yes        Yes       5212.0  \n",
            "4          25000         4         Yes         Yes        Yes      23828.0  \n"
          ]
        }
      ]
    },
    {
      "cell_type": "markdown",
      "source": [],
      "metadata": {
        "id": "KNT2fIQVbwHP"
      }
    },
    {
      "cell_type": "code",
      "source": [
        "# Simpan hasil cleansing ke file CSV baru\n",
        "output_path = \"dataset_baru_clean.csv\"\n",
        "dataset.to_csv(output_path, index=False)\n"
      ],
      "metadata": {
        "id": "TIYFc1gsbvRN"
      },
      "execution_count": 12,
      "outputs": []
    },
    {
      "cell_type": "code",
      "source": [
        "# Download file ke laptop\n",
        "from google.colab import files\n",
        "files.download(output_path)"
      ],
      "metadata": {
        "colab": {
          "base_uri": "https://localhost:8080/",
          "height": 17
        },
        "id": "PtfueB62cCZI",
        "outputId": "9872d53b-4029-45d3-9678-dce046776896"
      },
      "execution_count": 13,
      "outputs": [
        {
          "output_type": "display_data",
          "data": {
            "text/plain": [
              "<IPython.core.display.Javascript object>"
            ],
            "application/javascript": [
              "\n",
              "    async function download(id, filename, size) {\n",
              "      if (!google.colab.kernel.accessAllowed) {\n",
              "        return;\n",
              "      }\n",
              "      const div = document.createElement('div');\n",
              "      const label = document.createElement('label');\n",
              "      label.textContent = `Downloading \"${filename}\": `;\n",
              "      div.appendChild(label);\n",
              "      const progress = document.createElement('progress');\n",
              "      progress.max = size;\n",
              "      div.appendChild(progress);\n",
              "      document.body.appendChild(div);\n",
              "\n",
              "      const buffers = [];\n",
              "      let downloaded = 0;\n",
              "\n",
              "      const channel = await google.colab.kernel.comms.open(id);\n",
              "      // Send a message to notify the kernel that we're ready.\n",
              "      channel.send({})\n",
              "\n",
              "      for await (const message of channel.messages) {\n",
              "        // Send a message to notify the kernel that we're ready.\n",
              "        channel.send({})\n",
              "        if (message.buffers) {\n",
              "          for (const buffer of message.buffers) {\n",
              "            buffers.push(buffer);\n",
              "            downloaded += buffer.byteLength;\n",
              "            progress.value = downloaded;\n",
              "          }\n",
              "        }\n",
              "      }\n",
              "      const blob = new Blob(buffers, {type: 'application/binary'});\n",
              "      const a = document.createElement('a');\n",
              "      a.href = window.URL.createObjectURL(blob);\n",
              "      a.download = filename;\n",
              "      div.appendChild(a);\n",
              "      a.click();\n",
              "      div.remove();\n",
              "    }\n",
              "  "
            ]
          },
          "metadata": {}
        },
        {
          "output_type": "display_data",
          "data": {
            "text/plain": [
              "<IPython.core.display.Javascript object>"
            ],
            "application/javascript": [
              "download(\"download_09818945-8505-433e-94ab-19ba7951cc7c\", \"dataset_baru_clean.csv\", 43429)"
            ]
          },
          "metadata": {}
        }
      ]
    }
  ]
}